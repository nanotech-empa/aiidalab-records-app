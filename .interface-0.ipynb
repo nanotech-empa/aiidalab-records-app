{
 "cells": [
  {
   "cell_type": "code",
   "execution_count": 3,
   "id": "179c4603",
   "metadata": {},
   "outputs": [],
   "source": [
    "# Import libraries\n",
    "import ipywidgets as ipw\n",
    "import src.widgets as widgets\n",
    "import src.utils as utils\n",
    "import json\n",
    "import os\n",
    "from jsonschema import validate, ValidationError\n",
    "from IPython.display import display, clear_output"
   ]
  },
  {
   "cell_type": "code",
   "execution_count": null,
   "id": "b5d670e5",
   "metadata": {},
   "outputs": [],
   "source": [
    "# Import schema\n",
    "SCHEMA_FILE = \"schema/record.schema.json\"\n",
    "if os.path.exists(SCHEMA_FILE):\n",
    "    SCHEMA = utils.read_json(SCHEMA_FILE)\n",
    "else:\n",
    "    print(\"Schema is not available!\")\n",
    "\n",
    "# Import database\n",
    "DATABASE_FOLDER = \"/home/jovyan/aiidalab-records-app/data\"\n",
    "if os.path.exists(DATABASE_FOLDER):\n",
    "    DATABASE_FILE = f\"{DATABASE_FOLDER}/records.json\"\n",
    "    if os.path.exists(DATABASE_FILE):\n",
    "        DATABASE = utils.read_json(DATABASE_FILE)\n",
    "    else:\n",
    "        DATABASE = []"
   ]
  },
  {
   "cell_type": "code",
   "execution_count": null,
   "id": "28f6dd96",
   "metadata": {},
   "outputs": [],
   "source": [
    "# Initialise widgets\n",
    "search_by_name_textbox = utils.Text(\n",
    "    placeholder = \"Search by name (keyword)\"\n",
    ")\n",
    "\n",
    "search_by_structure_file_uploader = utils.FileUpload(\n",
    "    accept = '.cdxml',\n",
    "    multiple = False\n",
    ")\n",
    "\n",
    "search_button = utils.Button(\n",
    "    tooltip = \"Click me\",\n",
    "    description = \"Search records\"\n",
    ")\n",
    "\n",
    "search_tab_widgets = utils.HBox(\n",
    "    [\n",
    "        search_by_name_textbox,\n",
    "        search_by_structure_file_uploader,\n",
    "        search_button\n",
    "    ]\n",
    ")\n",
    "\n",
    "search_result_accordion = utils.Accordion()\n",
    "\n",
    "search_records_widgets = utils.VBox(\n",
    "    [\n",
    "        search_tab_widgets,\n",
    "        search_result_accordion\n",
    "    ]\n",
    ")\n",
    "\n",
    "record_widgets = widgets.RecordObjectWidget()\n",
    "\n",
    "save_records_button = utils.Button(\n",
    "    tooltip = \"Click me\",\n",
    "    description = \"Save record\"\n",
    ")\n",
    "record_tab_widgets = utils.VBox(\n",
    "    [\n",
    "        record_widgets,\n",
    "        save_records_button\n",
    "    ]\n",
    ")\n",
    "\n",
    "interface_tabs = utils.Tab()\n",
    "interface_contents = [search_records_widgets, record_tab_widgets]\n",
    "interface_titles = [\"Search records\", \"Insert records\"]\n",
    "interface_tabs.children = interface_contents\n",
    "for i, title in enumerate(interface_titles):\n",
    "    interface_tabs.set_title(i, title)"
   ]
  },
  {
   "cell_type": "code",
   "execution_count": null,
   "id": "4e928617",
   "metadata": {},
   "outputs": [],
   "source": [
    "# Action functions\n",
    "def save_data(b):\n",
    "    record_data = record_widgets.get_widgets_data()\n",
    "    try:\n",
    "        validate(instance = record_data, schema = SCHEMA)\n",
    "        DATABASE.append(record_data)\n",
    "        utils.write_json(DATABASE, DATABASE_FILE)\n",
    "        print(\"Record saved successfully.\")\n",
    "        \n",
    "    except ValidationError as e:\n",
    "        print(\"JSON is invalid!\")\n",
    "        print(\"Reason:\", e.message)\n",
    "\n",
    "def search_records(b):\n",
    "    # Clear previous titles\n",
    "    previous_num_records = len(search_result_accordion.children)\n",
    "    for i in range(previous_num_records):\n",
    "        search_result_accordion.set_title(i, \"\")\n",
    "            \n",
    "    name = search_by_name_textbox.value\n",
    "    if name:\n",
    "        records_list = []\n",
    "        for record in DATABASE:\n",
    "            for record_name in record[\"names\"]:\n",
    "                if record_name == name:\n",
    "                    record_widgets = widgets.RecordObjectWidget()\n",
    "                    record_widgets.load_widgets(record)\n",
    "                    records_list.append(record_widgets)\n",
    "        \n",
    "        # Update current search results titles\n",
    "        num_records = len(records_list)\n",
    "        search_result_accordion.children = records_list\n",
    "        for i in range(num_records):\n",
    "            search_result_accordion.set_title(i, f\"Record {i+1}\")"
   ]
  },
  {
   "cell_type": "code",
   "execution_count": null,
   "id": "d2892881",
   "metadata": {},
   "outputs": [],
   "source": [
    "# Add actions to widgets\n",
    "search_button.on_click(search_records)\n",
    "save_records_button.on_click(save_data)"
   ]
  },
  {
   "cell_type": "markdown",
   "id": "9b1f4b7d",
   "metadata": {},
   "source": [
    "# Carbon Database"
   ]
  },
  {
   "cell_type": "code",
   "execution_count": null,
   "id": "41ff9767",
   "metadata": {},
   "outputs": [],
   "source": [
    "interface_tabs"
   ]
  }
 ],
 "metadata": {
  "kernelspec": {
   "display_name": "Python 3 (ipykernel)",
   "language": "python",
   "name": "python3"
  },
  "language_info": {
   "codemirror_mode": {
    "name": "ipython",
    "version": 3
   },
   "file_extension": ".py",
   "mimetype": "text/x-python",
   "name": "python",
   "nbconvert_exporter": "python",
   "pygments_lexer": "ipython3",
   "version": "3.9.13"
  }
 },
 "nbformat": 4,
 "nbformat_minor": 5
}
